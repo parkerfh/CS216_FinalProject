{
 "cells": [
  {
   "cell_type": "code",
   "execution_count": 1,
   "metadata": {},
   "outputs": [],
   "source": [
    "import pandas as pd\n",
    "import geopandas as gpd"
   ]
  },
  {
   "cell_type": "code",
   "execution_count": 2,
   "metadata": {},
   "outputs": [],
   "source": [
    "fips = pd.read_csv(\"../raw_data/US_FIPS_Codes.csv\")\n",
    "nc_shape = gpd.read_file(\"../data/nc_county_2020_shp\")\n",
    "us_shape = gpd.read_file(\"../raw_data/tl_2020_us_state\")"
   ]
  },
  {
   "cell_type": "markdown",
   "metadata": {},
   "source": [
    "# Data Sources"
   ]
  },
  {
   "cell_type": "markdown",
   "metadata": {},
   "source": [
    "The 2020 shapefiles for the US states and North Carolina are all from the US Census's [Tiger/Line Shapefiles](https://www.census.gov/geographies/mapping-files/time-series/geo/tiger-line-file.html). All documentation for these shapefiles are available [here](https://www.census.gov/programs-surveys/geography/technical-documentation/complete-technical-documentation/tiger-geo-line.html).\n",
    "\n",
    "The 2020 NC shapefiles should be here at [tl_2020_37_county20.zip](https://www2.census.gov/geo/tiger/TIGER2020PL/STATE/37_NORTH_CAROLINA/37/), and the 2020 US state shapefiles should be here at [tl_2020_us_state.zip](https://www2.census.gov/geo/tiger/TIGER2020/STATE/)."
   ]
  },
  {
   "cell_type": "markdown",
   "metadata": {},
   "source": [
    "# Data Wrangling"
   ]
  },
  {
   "cell_type": "markdown",
   "metadata": {},
   "source": [
    "## Clean up NC FIPS county codes"
   ]
  },
  {
   "cell_type": "code",
   "execution_count": 3,
   "metadata": {},
   "outputs": [
    {
     "data": {
      "text/html": [
       "<div>\n",
       "<style scoped>\n",
       "    .dataframe tbody tr th:only-of-type {\n",
       "        vertical-align: middle;\n",
       "    }\n",
       "\n",
       "    .dataframe tbody tr th {\n",
       "        vertical-align: top;\n",
       "    }\n",
       "\n",
       "    .dataframe thead th {\n",
       "        text-align: right;\n",
       "    }\n",
       "</style>\n",
       "<table border=\"1\" class=\"dataframe\">\n",
       "  <thead>\n",
       "    <tr style=\"text-align: right;\">\n",
       "      <th></th>\n",
       "      <th>U.S. FIPS County Codes</th>\n",
       "      <th>Unnamed: 1</th>\n",
       "      <th>Unnamed: 2</th>\n",
       "      <th>Unnamed: 3</th>\n",
       "    </tr>\n",
       "  </thead>\n",
       "  <tbody>\n",
       "    <tr>\n",
       "      <th>0</th>\n",
       "      <td>State</td>\n",
       "      <td>County Name</td>\n",
       "      <td>FIPS State</td>\n",
       "      <td>FIPS County</td>\n",
       "    </tr>\n",
       "    <tr>\n",
       "      <th>1</th>\n",
       "      <td>Alabama</td>\n",
       "      <td>Autauga</td>\n",
       "      <td>01</td>\n",
       "      <td>001</td>\n",
       "    </tr>\n",
       "    <tr>\n",
       "      <th>2</th>\n",
       "      <td>Alabama</td>\n",
       "      <td>Baldwin</td>\n",
       "      <td>01</td>\n",
       "      <td>003</td>\n",
       "    </tr>\n",
       "    <tr>\n",
       "      <th>3</th>\n",
       "      <td>Alabama</td>\n",
       "      <td>Barbour</td>\n",
       "      <td>01</td>\n",
       "      <td>005</td>\n",
       "    </tr>\n",
       "    <tr>\n",
       "      <th>4</th>\n",
       "      <td>Alabama</td>\n",
       "      <td>Bibb</td>\n",
       "      <td>01</td>\n",
       "      <td>007</td>\n",
       "    </tr>\n",
       "  </tbody>\n",
       "</table>\n",
       "</div>"
      ],
      "text/plain": [
       "  U.S. FIPS County Codes   Unnamed: 1  Unnamed: 2   Unnamed: 3\n",
       "0                  State  County Name  FIPS State  FIPS County\n",
       "1                Alabama      Autauga          01          001\n",
       "2                Alabama      Baldwin          01          003\n",
       "3                Alabama      Barbour          01          005\n",
       "4                Alabama         Bibb          01          007"
      ]
     },
     "execution_count": 3,
     "metadata": {},
     "output_type": "execute_result"
    }
   ],
   "source": [
    "fips.head()"
   ]
  },
  {
   "cell_type": "code",
   "execution_count": 4,
   "metadata": {},
   "outputs": [],
   "source": [
    "fips.columns = [\"STATE\", \"NAME20\", \"STATEFP20\", \"COUNTYFP20\"]"
   ]
  },
  {
   "cell_type": "code",
   "execution_count": 5,
   "metadata": {},
   "outputs": [],
   "source": [
    "fips.drop(index=0, inplace=True)"
   ]
  },
  {
   "cell_type": "code",
   "execution_count": 6,
   "metadata": {},
   "outputs": [],
   "source": [
    "nc_fips = fips.loc[fips[\"STATE\"] == \"North Carolina\"].reset_index(drop=True)"
   ]
  },
  {
   "cell_type": "code",
   "execution_count": 7,
   "metadata": {},
   "outputs": [],
   "source": [
    "nc_fips[\"GEOID20\"] = nc_fips[\"STATEFP20\"] + nc_fips[\"COUNTYFP20\"]"
   ]
  },
  {
   "cell_type": "code",
   "execution_count": 8,
   "metadata": {},
   "outputs": [
    {
     "data": {
      "text/html": [
       "<div>\n",
       "<style scoped>\n",
       "    .dataframe tbody tr th:only-of-type {\n",
       "        vertical-align: middle;\n",
       "    }\n",
       "\n",
       "    .dataframe tbody tr th {\n",
       "        vertical-align: top;\n",
       "    }\n",
       "\n",
       "    .dataframe thead th {\n",
       "        text-align: right;\n",
       "    }\n",
       "</style>\n",
       "<table border=\"1\" class=\"dataframe\">\n",
       "  <thead>\n",
       "    <tr style=\"text-align: right;\">\n",
       "      <th></th>\n",
       "      <th>STATE</th>\n",
       "      <th>NAME20</th>\n",
       "      <th>STATEFP20</th>\n",
       "      <th>COUNTYFP20</th>\n",
       "      <th>GEOID20</th>\n",
       "    </tr>\n",
       "  </thead>\n",
       "  <tbody>\n",
       "    <tr>\n",
       "      <th>0</th>\n",
       "      <td>North Carolina</td>\n",
       "      <td>Alamance</td>\n",
       "      <td>37</td>\n",
       "      <td>001</td>\n",
       "      <td>37001</td>\n",
       "    </tr>\n",
       "    <tr>\n",
       "      <th>1</th>\n",
       "      <td>North Carolina</td>\n",
       "      <td>Alexander</td>\n",
       "      <td>37</td>\n",
       "      <td>003</td>\n",
       "      <td>37003</td>\n",
       "    </tr>\n",
       "    <tr>\n",
       "      <th>2</th>\n",
       "      <td>North Carolina</td>\n",
       "      <td>Alleghany</td>\n",
       "      <td>37</td>\n",
       "      <td>005</td>\n",
       "      <td>37005</td>\n",
       "    </tr>\n",
       "    <tr>\n",
       "      <th>3</th>\n",
       "      <td>North Carolina</td>\n",
       "      <td>Anson</td>\n",
       "      <td>37</td>\n",
       "      <td>007</td>\n",
       "      <td>37007</td>\n",
       "    </tr>\n",
       "    <tr>\n",
       "      <th>4</th>\n",
       "      <td>North Carolina</td>\n",
       "      <td>Ashe</td>\n",
       "      <td>37</td>\n",
       "      <td>009</td>\n",
       "      <td>37009</td>\n",
       "    </tr>\n",
       "  </tbody>\n",
       "</table>\n",
       "</div>"
      ],
      "text/plain": [
       "            STATE     NAME20 STATEFP20 COUNTYFP20 GEOID20\n",
       "0  North Carolina   Alamance        37        001   37001\n",
       "1  North Carolina  Alexander        37        003   37003\n",
       "2  North Carolina  Alleghany        37        005   37005\n",
       "3  North Carolina      Anson        37        007   37007\n",
       "4  North Carolina       Ashe        37        009   37009"
      ]
     },
     "execution_count": 8,
     "metadata": {},
     "output_type": "execute_result"
    }
   ],
   "source": [
    "nc_fips.head()"
   ]
  },
  {
   "cell_type": "code",
   "execution_count": 9,
   "metadata": {},
   "outputs": [],
   "source": [
    "# nc_fips.to_csv(\"../data/nc_county_fips.csv\", index=False)"
   ]
  },
  {
   "cell_type": "markdown",
   "metadata": {},
   "source": [
    "## Check identifying data in nc_county_fips matches shapefile data\n",
    "\n",
    "Source for NC county shapefiles and US state shapefiles: https://www.census.gov/geographies/mapping-files/time-series/geo/tiger-line-file.html\n",
    "\n",
    "Documentation: https://www.census.gov/programs-surveys/geography/technical-documentation/complete-technical-documentation/tiger-geo-line.html"
   ]
  },
  {
   "cell_type": "code",
   "execution_count": 10,
   "metadata": {},
   "outputs": [
    {
     "data": {
      "text/html": [
       "<div>\n",
       "<style scoped>\n",
       "    .dataframe tbody tr th:only-of-type {\n",
       "        vertical-align: middle;\n",
       "    }\n",
       "\n",
       "    .dataframe tbody tr th {\n",
       "        vertical-align: top;\n",
       "    }\n",
       "\n",
       "    .dataframe thead th {\n",
       "        text-align: right;\n",
       "    }\n",
       "</style>\n",
       "<table border=\"1\" class=\"dataframe\">\n",
       "  <thead>\n",
       "    <tr style=\"text-align: right;\">\n",
       "      <th></th>\n",
       "      <th>STATEFP20</th>\n",
       "      <th>COUNTYFP20</th>\n",
       "      <th>COUNTYNS20</th>\n",
       "      <th>GEOID20</th>\n",
       "      <th>NAME20</th>\n",
       "      <th>NAMELSAD20</th>\n",
       "      <th>LSAD20</th>\n",
       "      <th>CLASSFP20</th>\n",
       "      <th>MTFCC20</th>\n",
       "      <th>CSAFP20</th>\n",
       "      <th>CBSAFP20</th>\n",
       "      <th>METDIVFP20</th>\n",
       "      <th>FUNCSTAT20</th>\n",
       "      <th>ALAND20</th>\n",
       "      <th>AWATER20</th>\n",
       "      <th>INTPTLAT20</th>\n",
       "      <th>INTPTLON20</th>\n",
       "      <th>geometry</th>\n",
       "    </tr>\n",
       "  </thead>\n",
       "  <tbody>\n",
       "    <tr>\n",
       "      <th>0</th>\n",
       "      <td>37</td>\n",
       "      <td>135</td>\n",
       "      <td>01008576</td>\n",
       "      <td>37135</td>\n",
       "      <td>Orange</td>\n",
       "      <td>Orange County</td>\n",
       "      <td>06</td>\n",
       "      <td>H1</td>\n",
       "      <td>G4020</td>\n",
       "      <td>450</td>\n",
       "      <td>20500</td>\n",
       "      <td>None</td>\n",
       "      <td>A</td>\n",
       "      <td>1029673918</td>\n",
       "      <td>8806896</td>\n",
       "      <td>+36.0625255</td>\n",
       "      <td>-079.1200340</td>\n",
       "      <td>POLYGON ((-79.26198 36.03505, -79.26196 36.035...</td>\n",
       "    </tr>\n",
       "    <tr>\n",
       "      <th>1</th>\n",
       "      <td>37</td>\n",
       "      <td>049</td>\n",
       "      <td>01026123</td>\n",
       "      <td>37049</td>\n",
       "      <td>Craven</td>\n",
       "      <td>Craven County</td>\n",
       "      <td>06</td>\n",
       "      <td>H1</td>\n",
       "      <td>G4020</td>\n",
       "      <td>404</td>\n",
       "      <td>35100</td>\n",
       "      <td>None</td>\n",
       "      <td>A</td>\n",
       "      <td>1830014545</td>\n",
       "      <td>172777667</td>\n",
       "      <td>+35.1168292</td>\n",
       "      <td>-077.0813197</td>\n",
       "      <td>POLYGON ((-77.20903 35.09147, -77.20926 35.091...</td>\n",
       "    </tr>\n",
       "    <tr>\n",
       "      <th>2</th>\n",
       "      <td>37</td>\n",
       "      <td>195</td>\n",
       "      <td>01008596</td>\n",
       "      <td>37195</td>\n",
       "      <td>Wilson</td>\n",
       "      <td>Wilson County</td>\n",
       "      <td>06</td>\n",
       "      <td>H1</td>\n",
       "      <td>G4020</td>\n",
       "      <td>468</td>\n",
       "      <td>48980</td>\n",
       "      <td>None</td>\n",
       "      <td>A</td>\n",
       "      <td>952013027</td>\n",
       "      <td>14332439</td>\n",
       "      <td>+35.7003569</td>\n",
       "      <td>-077.9215978</td>\n",
       "      <td>POLYGON ((-78.03802 35.78752, -78.03697 35.787...</td>\n",
       "    </tr>\n",
       "    <tr>\n",
       "      <th>3</th>\n",
       "      <td>37</td>\n",
       "      <td>061</td>\n",
       "      <td>01026132</td>\n",
       "      <td>37061</td>\n",
       "      <td>Duplin</td>\n",
       "      <td>Duplin County</td>\n",
       "      <td>06</td>\n",
       "      <td>H1</td>\n",
       "      <td>G4020</td>\n",
       "      <td>None</td>\n",
       "      <td>None</td>\n",
       "      <td>None</td>\n",
       "      <td>A</td>\n",
       "      <td>2110115795</td>\n",
       "      <td>14237879</td>\n",
       "      <td>+34.9344033</td>\n",
       "      <td>-077.9335434</td>\n",
       "      <td>POLYGON ((-78.15706 35.04038, -78.15781 35.051...</td>\n",
       "    </tr>\n",
       "    <tr>\n",
       "      <th>4</th>\n",
       "      <td>37</td>\n",
       "      <td>087</td>\n",
       "      <td>01008561</td>\n",
       "      <td>37087</td>\n",
       "      <td>Haywood</td>\n",
       "      <td>Haywood County</td>\n",
       "      <td>06</td>\n",
       "      <td>H1</td>\n",
       "      <td>G4020</td>\n",
       "      <td>120</td>\n",
       "      <td>11700</td>\n",
       "      <td>None</td>\n",
       "      <td>A</td>\n",
       "      <td>1433713844</td>\n",
       "      <td>2438478</td>\n",
       "      <td>+35.5588823</td>\n",
       "      <td>-082.9813074</td>\n",
       "      <td>POLYGON ((-83.15657 35.55209, -83.15606 35.552...</td>\n",
       "    </tr>\n",
       "  </tbody>\n",
       "</table>\n",
       "</div>"
      ],
      "text/plain": [
       "  STATEFP20 COUNTYFP20 COUNTYNS20 GEOID20   NAME20      NAMELSAD20 LSAD20  \\\n",
       "0        37        135   01008576   37135   Orange   Orange County     06   \n",
       "1        37        049   01026123   37049   Craven   Craven County     06   \n",
       "2        37        195   01008596   37195   Wilson   Wilson County     06   \n",
       "3        37        061   01026132   37061   Duplin   Duplin County     06   \n",
       "4        37        087   01008561   37087  Haywood  Haywood County     06   \n",
       "\n",
       "  CLASSFP20 MTFCC20 CSAFP20 CBSAFP20 METDIVFP20 FUNCSTAT20     ALAND20  \\\n",
       "0        H1   G4020     450    20500       None          A  1029673918   \n",
       "1        H1   G4020     404    35100       None          A  1830014545   \n",
       "2        H1   G4020     468    48980       None          A   952013027   \n",
       "3        H1   G4020    None     None       None          A  2110115795   \n",
       "4        H1   G4020     120    11700       None          A  1433713844   \n",
       "\n",
       "    AWATER20   INTPTLAT20    INTPTLON20  \\\n",
       "0    8806896  +36.0625255  -079.1200340   \n",
       "1  172777667  +35.1168292  -077.0813197   \n",
       "2   14332439  +35.7003569  -077.9215978   \n",
       "3   14237879  +34.9344033  -077.9335434   \n",
       "4    2438478  +35.5588823  -082.9813074   \n",
       "\n",
       "                                            geometry  \n",
       "0  POLYGON ((-79.26198 36.03505, -79.26196 36.035...  \n",
       "1  POLYGON ((-77.20903 35.09147, -77.20926 35.091...  \n",
       "2  POLYGON ((-78.03802 35.78752, -78.03697 35.787...  \n",
       "3  POLYGON ((-78.15706 35.04038, -78.15781 35.051...  \n",
       "4  POLYGON ((-83.15657 35.55209, -83.15606 35.552...  "
      ]
     },
     "execution_count": 10,
     "metadata": {},
     "output_type": "execute_result"
    }
   ],
   "source": [
    "nc_shape.head()"
   ]
  },
  {
   "cell_type": "code",
   "execution_count": 11,
   "metadata": {},
   "outputs": [
    {
     "data": {
      "text/plain": [
       "<matplotlib.axes._subplots.AxesSubplot at 0x7fbbe246d350>"
      ]
     },
     "execution_count": 11,
     "metadata": {},
     "output_type": "execute_result"
    },
    {
     "data": {
      "image/png": "[encoded data removed]",
      "text/plain": [
       "<Figure size 864x720 with 1 Axes>"
      ]
     },
     "metadata": {
      "needs_background": "light"
     },
     "output_type": "display_data"
    }
   ],
   "source": [
    "nc_shape.plot(figsize=(12, 10), column=\"COUNTYFP20\", cmap=\"Set3\")"
   ]
  },
  {
   "cell_type": "code",
   "execution_count": 12,
   "metadata": {},
   "outputs": [],
   "source": [
    "nc_fips_comp = nc_fips[[\"COUNTYFP20\", \"NAME20\", \"GEOID20\"]]"
   ]
  },
  {
   "cell_type": "code",
   "execution_count": 13,
   "metadata": {},
   "outputs": [],
   "source": [
    "nc_shape_comp_sorted = nc_shape[[\"COUNTYFP20\", \"NAME20\", \"GEOID20\"]].sort_values(\n",
    "    by=\"COUNTYFP20\").reset_index(drop=True)"
   ]
  },
  {
   "cell_type": "code",
   "execution_count": 14,
   "metadata": {},
   "outputs": [
    {
     "data": {
      "text/plain": [
       "True"
      ]
     },
     "execution_count": 14,
     "metadata": {},
     "output_type": "execute_result"
    }
   ],
   "source": [
    "nc_fips_comp.equals(nc_shape_comp_sorted)"
   ]
  },
  {
   "cell_type": "markdown",
   "metadata": {},
   "source": [
    "## Clean up states shapefile"
   ]
  },
  {
   "cell_type": "code",
   "execution_count": 15,
   "metadata": {},
   "outputs": [],
   "source": [
    "us_shape.rename(columns={\"STATEFP\":\"STATEFP20\"}, inplace=True)"
   ]
  },
  {
   "cell_type": "code",
   "execution_count": 16,
   "metadata": {},
   "outputs": [
    {
     "data": {
      "text/plain": [
       "<matplotlib.axes._subplots.AxesSubplot at 0x7fbbe31fdbd0>"
      ]
     },
     "execution_count": 16,
     "metadata": {},
     "output_type": "execute_result"
    },
    {
     "data": {
      "image/png": "[encoded data removed]",
      "text/plain": [
       "<Figure size 3456x2880 with 1 Axes>"
      ]
     },
     "metadata": {
      "needs_background": "light"
     },
     "output_type": "display_data"
    }
   ],
   "source": [
    "us_shape.plot(figsize = (48, 40), column = \"STATEFP20\", cmap = \"Set3\")"
   ]
  },
  {
   "cell_type": "code",
   "execution_count": 17,
   "metadata": {},
   "outputs": [
    {
     "data": {
      "text/html": [
       "<div>\n",
       "<style scoped>\n",
       "    .dataframe tbody tr th:only-of-type {\n",
       "        vertical-align: middle;\n",
       "    }\n",
       "\n",
       "    .dataframe tbody tr th {\n",
       "        vertical-align: top;\n",
       "    }\n",
       "\n",
       "    .dataframe thead th {\n",
       "        text-align: right;\n",
       "    }\n",
       "</style>\n",
       "<table border=\"1\" class=\"dataframe\">\n",
       "  <thead>\n",
       "    <tr style=\"text-align: right;\">\n",
       "      <th></th>\n",
       "      <th>REGION</th>\n",
       "      <th>DIVISION</th>\n",
       "      <th>STATEFP20</th>\n",
       "      <th>STATENS</th>\n",
       "      <th>GEOID</th>\n",
       "      <th>STUSPS</th>\n",
       "      <th>NAME</th>\n",
       "      <th>LSAD</th>\n",
       "      <th>MTFCC</th>\n",
       "      <th>FUNCSTAT</th>\n",
       "      <th>ALAND</th>\n",
       "      <th>AWATER</th>\n",
       "      <th>INTPTLAT</th>\n",
       "      <th>INTPTLON</th>\n",
       "      <th>geometry</th>\n",
       "    </tr>\n",
       "  </thead>\n",
       "  <tbody>\n",
       "    <tr>\n",
       "      <th>0</th>\n",
       "      <td>3</td>\n",
       "      <td>5</td>\n",
       "      <td>54</td>\n",
       "      <td>01779805</td>\n",
       "      <td>54</td>\n",
       "      <td>WV</td>\n",
       "      <td>West Virginia</td>\n",
       "      <td>00</td>\n",
       "      <td>G4000</td>\n",
       "      <td>A</td>\n",
       "      <td>62266296765</td>\n",
       "      <td>489206049</td>\n",
       "      <td>+38.6472854</td>\n",
       "      <td>-080.6183274</td>\n",
       "      <td>POLYGON ((-81.74725 39.09538, -81.74635 39.096...</td>\n",
       "    </tr>\n",
       "    <tr>\n",
       "      <th>1</th>\n",
       "      <td>3</td>\n",
       "      <td>5</td>\n",
       "      <td>12</td>\n",
       "      <td>00294478</td>\n",
       "      <td>12</td>\n",
       "      <td>FL</td>\n",
       "      <td>Florida</td>\n",
       "      <td>00</td>\n",
       "      <td>G4000</td>\n",
       "      <td>A</td>\n",
       "      <td>138958484319</td>\n",
       "      <td>45975808217</td>\n",
       "      <td>+28.3989775</td>\n",
       "      <td>-082.5143005</td>\n",
       "      <td>MULTIPOLYGON (((-86.39964 30.22696, -86.40262 ...</td>\n",
       "    </tr>\n",
       "    <tr>\n",
       "      <th>2</th>\n",
       "      <td>2</td>\n",
       "      <td>3</td>\n",
       "      <td>17</td>\n",
       "      <td>01779784</td>\n",
       "      <td>17</td>\n",
       "      <td>IL</td>\n",
       "      <td>Illinois</td>\n",
       "      <td>00</td>\n",
       "      <td>G4000</td>\n",
       "      <td>A</td>\n",
       "      <td>143778461053</td>\n",
       "      <td>6216594318</td>\n",
       "      <td>+40.1028754</td>\n",
       "      <td>-089.1526108</td>\n",
       "      <td>POLYGON ((-91.18529 40.63780, -91.17510 40.643...</td>\n",
       "    </tr>\n",
       "    <tr>\n",
       "      <th>3</th>\n",
       "      <td>2</td>\n",
       "      <td>4</td>\n",
       "      <td>27</td>\n",
       "      <td>00662849</td>\n",
       "      <td>27</td>\n",
       "      <td>MN</td>\n",
       "      <td>Minnesota</td>\n",
       "      <td>00</td>\n",
       "      <td>G4000</td>\n",
       "      <td>A</td>\n",
       "      <td>206232157570</td>\n",
       "      <td>18949864226</td>\n",
       "      <td>+46.3159573</td>\n",
       "      <td>-094.1996043</td>\n",
       "      <td>POLYGON ((-96.78438 46.63050, -96.78434 46.630...</td>\n",
       "    </tr>\n",
       "    <tr>\n",
       "      <th>4</th>\n",
       "      <td>3</td>\n",
       "      <td>5</td>\n",
       "      <td>24</td>\n",
       "      <td>01714934</td>\n",
       "      <td>24</td>\n",
       "      <td>MD</td>\n",
       "      <td>Maryland</td>\n",
       "      <td>00</td>\n",
       "      <td>G4000</td>\n",
       "      <td>A</td>\n",
       "      <td>25151895765</td>\n",
       "      <td>6979171386</td>\n",
       "      <td>+38.9466584</td>\n",
       "      <td>-076.6744939</td>\n",
       "      <td>POLYGON ((-77.45881 39.22027, -77.45866 39.220...</td>\n",
       "    </tr>\n",
       "  </tbody>\n",
       "</table>\n",
       "</div>"
      ],
      "text/plain": [
       "  REGION DIVISION STATEFP20   STATENS GEOID STUSPS           NAME LSAD  MTFCC  \\\n",
       "0      3        5        54  01779805    54     WV  West Virginia   00  G4000   \n",
       "1      3        5        12  00294478    12     FL        Florida   00  G4000   \n",
       "2      2        3        17  01779784    17     IL       Illinois   00  G4000   \n",
       "3      2        4        27  00662849    27     MN      Minnesota   00  G4000   \n",
       "4      3        5        24  01714934    24     MD       Maryland   00  G4000   \n",
       "\n",
       "  FUNCSTAT         ALAND       AWATER     INTPTLAT      INTPTLON  \\\n",
       "0        A   62266296765    489206049  +38.6472854  -080.6183274   \n",
       "1        A  138958484319  45975808217  +28.3989775  -082.5143005   \n",
       "2        A  143778461053   6216594318  +40.1028754  -089.1526108   \n",
       "3        A  206232157570  18949864226  +46.3159573  -094.1996043   \n",
       "4        A   25151895765   6979171386  +38.9466584  -076.6744939   \n",
       "\n",
       "                                            geometry  \n",
       "0  POLYGON ((-81.74725 39.09538, -81.74635 39.096...  \n",
       "1  MULTIPOLYGON (((-86.39964 30.22696, -86.40262 ...  \n",
       "2  POLYGON ((-91.18529 40.63780, -91.17510 40.643...  \n",
       "3  POLYGON ((-96.78438 46.63050, -96.78434 46.630...  \n",
       "4  POLYGON ((-77.45881 39.22027, -77.45866 39.220...  "
      ]
     },
     "execution_count": 17,
     "metadata": {},
     "output_type": "execute_result"
    }
   ],
   "source": [
    "us_shape.head()"
   ]
  },
  {
   "cell_type": "code",
   "execution_count": 19,
   "metadata": {},
   "outputs": [],
   "source": [
    "# us_shape.to_file(\"../data/state_2020_shp\", index=False)"
   ]
  },
  {
   "cell_type": "code",
   "execution_count": null,
   "metadata": {},
   "outputs": [],
   "source": []
  }
 ],
 "metadata": {
  "kernelspec": {
   "display_name": "Python 3",
   "language": "python",
   "name": "python3"
  },
  "language_info": {
   "codemirror_mode": {
    "name": "ipython",
    "version": 3
   },
   "file_extension": ".py",
   "mimetype": "text/x-python",
   "name": "python",
   "nbconvert_exporter": "python",
   "pygments_lexer": "ipython3",
   "version": "3.7.7"
  }
 },
 "nbformat": 4,
 "nbformat_minor": 4
}
