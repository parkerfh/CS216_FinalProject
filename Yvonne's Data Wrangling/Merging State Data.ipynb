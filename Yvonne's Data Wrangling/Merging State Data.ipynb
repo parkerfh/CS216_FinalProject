{
 "cells": [
  {
   "cell_type": "code",
   "execution_count": 67,
   "metadata": {},
   "outputs": [],
   "source": [
    "import pandas as pd"
   ]
  },
  {
   "cell_type": "code",
   "execution_count": 88,
   "metadata": {},
   "outputs": [],
   "source": [
    "adoptNum = pd.read_csv(\"../data/adoption_numbers_statewide.csv\")\n",
    "adoptProp = pd.read_csv(\"../data/adoption_proportion_statewide.csv\")\n",
    "maternalMort = pd.read_csv(\"../data/maternal_mortality_state.csv\")\n",
    "parental = pd.read_csv(\"../data/parental_leave_rankings.csv\")"
   ]
  },
  {
   "cell_type": "code",
   "execution_count": 89,
   "metadata": {},
   "outputs": [],
   "source": [
    "combined = pd.merge(adoptNum, adoptProp, how = \"inner\", on = [\"State\", \"STATEFP20\"])"
   ]
  },
  {
   "cell_type": "code",
   "execution_count": 91,
   "metadata": {},
   "outputs": [],
   "source": [
    "combined = pd.merge(combined, parental, how = \"inner\", on = [\"State\", \"STATEFP20\"])"
   ]
  },
  {
   "cell_type": "code",
   "execution_count": 92,
   "metadata": {},
   "outputs": [],
   "source": [
    "combined = pd.merge(combined, maternalMort, how = \"left\", on = [\"State\", \"STATEFP20\", \"Abortion Overview\"])"
   ]
  },
  {
   "cell_type": "code",
   "execution_count": 80,
   "metadata": {},
   "outputs": [],
   "source": [
    "#combined.to_csv(\"../data/combined_state.csv\", index=False)"
   ]
  }
 ],
 "metadata": {
  "kernelspec": {
   "display_name": "Python 3",
   "language": "python",
   "name": "python3"
  },
  "language_info": {
   "codemirror_mode": {
    "name": "ipython",
    "version": 3
   },
   "file_extension": ".py",
   "mimetype": "text/x-python",
   "name": "python",
   "nbconvert_exporter": "python",
   "pygments_lexer": "ipython3",
   "version": "3.8.5"
  }
 },
 "nbformat": 4,
 "nbformat_minor": 4
}
